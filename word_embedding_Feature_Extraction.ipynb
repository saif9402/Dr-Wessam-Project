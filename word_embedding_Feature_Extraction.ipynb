{
  "cells": [
    {
      "cell_type": "markdown",
      "metadata": {
        "id": "view-in-github",
        "colab_type": "text"
      },
      "source": [
        "<a href=\"https://colab.research.google.com/github/saif9402/Dr-Wessam-Project/blob/main/word_embedding_Feature_Extraction.ipynb\" target=\"_parent\"><img src=\"https://colab.research.google.com/assets/colab-badge.svg\" alt=\"Open In Colab\"/></a>"
      ]
    },
    {
      "cell_type": "code",
      "execution_count": null,
      "metadata": {
        "colab": {
          "base_uri": "https://localhost:8080/",
          "height": 90
        },
        "id": "Sdiak21XV9u2",
        "outputId": "a2f6b916-1e2e-4fee-aade-90dcc9bad76c"
      },
      "outputs": [
        {
          "output_type": "display_data",
          "data": {
            "text/plain": [
              "<IPython.core.display.HTML object>"
            ],
            "text/html": [
              "\n",
              "     <input type=\"file\" id=\"files-9f5c51e7-d13e-44c9-b7ec-0fa7d8a94c57\" name=\"files[]\" multiple disabled\n",
              "        style=\"border:none\" />\n",
              "     <output id=\"result-9f5c51e7-d13e-44c9-b7ec-0fa7d8a94c57\">\n",
              "      Upload widget is only available when the cell has been executed in the\n",
              "      current browser session. Please rerun this cell to enable.\n",
              "      </output>\n",
              "      <script>// Copyright 2017 Google LLC\n",
              "//\n",
              "// Licensed under the Apache License, Version 2.0 (the \"License\");\n",
              "// you may not use this file except in compliance with the License.\n",
              "// You may obtain a copy of the License at\n",
              "//\n",
              "//      http://www.apache.org/licenses/LICENSE-2.0\n",
              "//\n",
              "// Unless required by applicable law or agreed to in writing, software\n",
              "// distributed under the License is distributed on an \"AS IS\" BASIS,\n",
              "// WITHOUT WARRANTIES OR CONDITIONS OF ANY KIND, either express or implied.\n",
              "// See the License for the specific language governing permissions and\n",
              "// limitations under the License.\n",
              "\n",
              "/**\n",
              " * @fileoverview Helpers for google.colab Python module.\n",
              " */\n",
              "(function(scope) {\n",
              "function span(text, styleAttributes = {}) {\n",
              "  const element = document.createElement('span');\n",
              "  element.textContent = text;\n",
              "  for (const key of Object.keys(styleAttributes)) {\n",
              "    element.style[key] = styleAttributes[key];\n",
              "  }\n",
              "  return element;\n",
              "}\n",
              "\n",
              "// Max number of bytes which will be uploaded at a time.\n",
              "const MAX_PAYLOAD_SIZE = 100 * 1024;\n",
              "\n",
              "function _uploadFiles(inputId, outputId) {\n",
              "  const steps = uploadFilesStep(inputId, outputId);\n",
              "  const outputElement = document.getElementById(outputId);\n",
              "  // Cache steps on the outputElement to make it available for the next call\n",
              "  // to uploadFilesContinue from Python.\n",
              "  outputElement.steps = steps;\n",
              "\n",
              "  return _uploadFilesContinue(outputId);\n",
              "}\n",
              "\n",
              "// This is roughly an async generator (not supported in the browser yet),\n",
              "// where there are multiple asynchronous steps and the Python side is going\n",
              "// to poll for completion of each step.\n",
              "// This uses a Promise to block the python side on completion of each step,\n",
              "// then passes the result of the previous step as the input to the next step.\n",
              "function _uploadFilesContinue(outputId) {\n",
              "  const outputElement = document.getElementById(outputId);\n",
              "  const steps = outputElement.steps;\n",
              "\n",
              "  const next = steps.next(outputElement.lastPromiseValue);\n",
              "  return Promise.resolve(next.value.promise).then((value) => {\n",
              "    // Cache the last promise value to make it available to the next\n",
              "    // step of the generator.\n",
              "    outputElement.lastPromiseValue = value;\n",
              "    return next.value.response;\n",
              "  });\n",
              "}\n",
              "\n",
              "/**\n",
              " * Generator function which is called between each async step of the upload\n",
              " * process.\n",
              " * @param {string} inputId Element ID of the input file picker element.\n",
              " * @param {string} outputId Element ID of the output display.\n",
              " * @return {!Iterable<!Object>} Iterable of next steps.\n",
              " */\n",
              "function* uploadFilesStep(inputId, outputId) {\n",
              "  const inputElement = document.getElementById(inputId);\n",
              "  inputElement.disabled = false;\n",
              "\n",
              "  const outputElement = document.getElementById(outputId);\n",
              "  outputElement.innerHTML = '';\n",
              "\n",
              "  const pickedPromise = new Promise((resolve) => {\n",
              "    inputElement.addEventListener('change', (e) => {\n",
              "      resolve(e.target.files);\n",
              "    });\n",
              "  });\n",
              "\n",
              "  const cancel = document.createElement('button');\n",
              "  inputElement.parentElement.appendChild(cancel);\n",
              "  cancel.textContent = 'Cancel upload';\n",
              "  const cancelPromise = new Promise((resolve) => {\n",
              "    cancel.onclick = () => {\n",
              "      resolve(null);\n",
              "    };\n",
              "  });\n",
              "\n",
              "  // Wait for the user to pick the files.\n",
              "  const files = yield {\n",
              "    promise: Promise.race([pickedPromise, cancelPromise]),\n",
              "    response: {\n",
              "      action: 'starting',\n",
              "    }\n",
              "  };\n",
              "\n",
              "  cancel.remove();\n",
              "\n",
              "  // Disable the input element since further picks are not allowed.\n",
              "  inputElement.disabled = true;\n",
              "\n",
              "  if (!files) {\n",
              "    return {\n",
              "      response: {\n",
              "        action: 'complete',\n",
              "      }\n",
              "    };\n",
              "  }\n",
              "\n",
              "  for (const file of files) {\n",
              "    const li = document.createElement('li');\n",
              "    li.append(span(file.name, {fontWeight: 'bold'}));\n",
              "    li.append(span(\n",
              "        `(${file.type || 'n/a'}) - ${file.size} bytes, ` +\n",
              "        `last modified: ${\n",
              "            file.lastModifiedDate ? file.lastModifiedDate.toLocaleDateString() :\n",
              "                                    'n/a'} - `));\n",
              "    const percent = span('0% done');\n",
              "    li.appendChild(percent);\n",
              "\n",
              "    outputElement.appendChild(li);\n",
              "\n",
              "    const fileDataPromise = new Promise((resolve) => {\n",
              "      const reader = new FileReader();\n",
              "      reader.onload = (e) => {\n",
              "        resolve(e.target.result);\n",
              "      };\n",
              "      reader.readAsArrayBuffer(file);\n",
              "    });\n",
              "    // Wait for the data to be ready.\n",
              "    let fileData = yield {\n",
              "      promise: fileDataPromise,\n",
              "      response: {\n",
              "        action: 'continue',\n",
              "      }\n",
              "    };\n",
              "\n",
              "    // Use a chunked sending to avoid message size limits. See b/62115660.\n",
              "    let position = 0;\n",
              "    do {\n",
              "      const length = Math.min(fileData.byteLength - position, MAX_PAYLOAD_SIZE);\n",
              "      const chunk = new Uint8Array(fileData, position, length);\n",
              "      position += length;\n",
              "\n",
              "      const base64 = btoa(String.fromCharCode.apply(null, chunk));\n",
              "      yield {\n",
              "        response: {\n",
              "          action: 'append',\n",
              "          file: file.name,\n",
              "          data: base64,\n",
              "        },\n",
              "      };\n",
              "\n",
              "      let percentDone = fileData.byteLength === 0 ?\n",
              "          100 :\n",
              "          Math.round((position / fileData.byteLength) * 100);\n",
              "      percent.textContent = `${percentDone}% done`;\n",
              "\n",
              "    } while (position < fileData.byteLength);\n",
              "  }\n",
              "\n",
              "  // All done.\n",
              "  yield {\n",
              "    response: {\n",
              "      action: 'complete',\n",
              "    }\n",
              "  };\n",
              "}\n",
              "\n",
              "scope.google = scope.google || {};\n",
              "scope.google.colab = scope.google.colab || {};\n",
              "scope.google.colab._files = {\n",
              "  _uploadFiles,\n",
              "  _uploadFilesContinue,\n",
              "};\n",
              "})(self);\n",
              "</script> "
            ]
          },
          "metadata": {}
        },
        {
          "output_type": "stream",
          "name": "stdout",
          "text": [
            "Saving kaggle.json to kaggle.json\n"
          ]
        },
        {
          "output_type": "execute_result",
          "data": {
            "text/plain": [
              "{'kaggle.json': b'{\"username\":\"marnunaatef\",\"key\":\"ee2ced2020c7862bac116bfd08a12486\"}'}"
            ]
          },
          "metadata": {},
          "execution_count": 4
        }
      ],
      "source": [
        "from google.colab import files\n",
        "files.upload()  # Upload kaggle.json\n"
      ]
    },
    {
      "cell_type": "code",
      "execution_count": null,
      "metadata": {
        "id": "v3ejcx3VpZfB"
      },
      "outputs": [],
      "source": [
        "import os\n",
        "import zipfile\n",
        "\n",
        "# Create kaggle directory and move kaggle.json\n",
        "!mkdir -p ~/.kaggle\n",
        "!cp kaggle.json ~/.kaggle/\n",
        "\n",
        "# Set permissions\n",
        "!chmod 600 ~/.kaggle/kaggle.json\n",
        "\n"
      ]
    },
    {
      "cell_type": "code",
      "execution_count": null,
      "metadata": {
        "colab": {
          "base_uri": "https://localhost:8080/"
        },
        "id": "id8saOeqphWP",
        "outputId": "de643d00-759f-46fb-b78b-347eb807eedc"
      },
      "outputs": [
        {
          "output_type": "stream",
          "name": "stdout",
          "text": [
            "Dataset URL: https://www.kaggle.com/datasets/anupampaul005/fake-news-dataset\n",
            "License(s): MIT\n"
          ]
        }
      ],
      "source": [
        "!kaggle datasets download -d anupampaul005/fake-news-dataset\n"
      ]
    },
    {
      "cell_type": "code",
      "execution_count": null,
      "metadata": {
        "id": "klN3MsHcpz0I"
      },
      "outputs": [],
      "source": [
        "with zipfile.ZipFile(\"fake-news-dataset.zip\", 'r') as zip_ref:\n",
        "    zip_ref.extractall(\"fake_news\")\n"
      ]
    },
    {
      "cell_type": "code",
      "execution_count": null,
      "metadata": {
        "colab": {
          "base_uri": "https://localhost:8080/",
          "height": 206
        },
        "id": "mApoa5hFtL0X",
        "outputId": "b172b402-db54-4de4-b1ee-7ca3391be5f9"
      },
      "outputs": [
        {
          "output_type": "execute_result",
          "data": {
            "text/plain": [
              "                                               title  \\\n",
              "0  WARNING: A Pivotal Moment For The Stock Market...   \n",
              "1  Trump, top defense officials, discuss North Ko...   \n",
              "2  British civil servants' union calls nationwide...   \n",
              "3   A**hole Of The Day – Michele Bachmann: Muslim...   \n",
              "4  ’Deport Fat People’ Posters Appear At CU Bould...   \n",
              "\n",
              "                                                text  unreliable  \\\n",
              "0  WARNING: A Pivotal Moment For The Stock Market...           1   \n",
              "1  WASHINGTON  - U.S. President Donald Trump met ...           0   \n",
              "2  LONDON  - British civil servants will vote nex...           0   \n",
              "3  Michele Bachmann has been pretty quiet since l...           1   \n",
              "4  Posters calling on Donald Trump to “Deport Fat...           0   \n",
              "\n",
              "                            author  \n",
              "0  Anonymous Coward (UID 72071746)  \n",
              "1                          Unknown  \n",
              "2                          Unknown  \n",
              "3                          Unknown  \n",
              "4                      Lucas Nolan  "
            ],
            "text/html": [
              "\n",
              "  <div id=\"df-a7dc9f70-3ad9-4511-8637-30210207c060\" class=\"colab-df-container\">\n",
              "    <div>\n",
              "<style scoped>\n",
              "    .dataframe tbody tr th:only-of-type {\n",
              "        vertical-align: middle;\n",
              "    }\n",
              "\n",
              "    .dataframe tbody tr th {\n",
              "        vertical-align: top;\n",
              "    }\n",
              "\n",
              "    .dataframe thead th {\n",
              "        text-align: right;\n",
              "    }\n",
              "</style>\n",
              "<table border=\"1\" class=\"dataframe\">\n",
              "  <thead>\n",
              "    <tr style=\"text-align: right;\">\n",
              "      <th></th>\n",
              "      <th>title</th>\n",
              "      <th>text</th>\n",
              "      <th>unreliable</th>\n",
              "      <th>author</th>\n",
              "    </tr>\n",
              "  </thead>\n",
              "  <tbody>\n",
              "    <tr>\n",
              "      <th>0</th>\n",
              "      <td>WARNING: A Pivotal Moment For The Stock Market...</td>\n",
              "      <td>WARNING: A Pivotal Moment For The Stock Market...</td>\n",
              "      <td>1</td>\n",
              "      <td>Anonymous Coward (UID 72071746)</td>\n",
              "    </tr>\n",
              "    <tr>\n",
              "      <th>1</th>\n",
              "      <td>Trump, top defense officials, discuss North Ko...</td>\n",
              "      <td>WASHINGTON  - U.S. President Donald Trump met ...</td>\n",
              "      <td>0</td>\n",
              "      <td>Unknown</td>\n",
              "    </tr>\n",
              "    <tr>\n",
              "      <th>2</th>\n",
              "      <td>British civil servants' union calls nationwide...</td>\n",
              "      <td>LONDON  - British civil servants will vote nex...</td>\n",
              "      <td>0</td>\n",
              "      <td>Unknown</td>\n",
              "    </tr>\n",
              "    <tr>\n",
              "      <th>3</th>\n",
              "      <td>A**hole Of The Day – Michele Bachmann: Muslim...</td>\n",
              "      <td>Michele Bachmann has been pretty quiet since l...</td>\n",
              "      <td>1</td>\n",
              "      <td>Unknown</td>\n",
              "    </tr>\n",
              "    <tr>\n",
              "      <th>4</th>\n",
              "      <td>’Deport Fat People’ Posters Appear At CU Bould...</td>\n",
              "      <td>Posters calling on Donald Trump to “Deport Fat...</td>\n",
              "      <td>0</td>\n",
              "      <td>Lucas Nolan</td>\n",
              "    </tr>\n",
              "  </tbody>\n",
              "</table>\n",
              "</div>\n",
              "    <div class=\"colab-df-buttons\">\n",
              "\n",
              "  <div class=\"colab-df-container\">\n",
              "    <button class=\"colab-df-convert\" onclick=\"convertToInteractive('df-a7dc9f70-3ad9-4511-8637-30210207c060')\"\n",
              "            title=\"Convert this dataframe to an interactive table.\"\n",
              "            style=\"display:none;\">\n",
              "\n",
              "  <svg xmlns=\"http://www.w3.org/2000/svg\" height=\"24px\" viewBox=\"0 -960 960 960\">\n",
              "    <path d=\"M120-120v-720h720v720H120Zm60-500h600v-160H180v160Zm220 220h160v-160H400v160Zm0 220h160v-160H400v160ZM180-400h160v-160H180v160Zm440 0h160v-160H620v160ZM180-180h160v-160H180v160Zm440 0h160v-160H620v160Z\"/>\n",
              "  </svg>\n",
              "    </button>\n",
              "\n",
              "  <style>\n",
              "    .colab-df-container {\n",
              "      display:flex;\n",
              "      gap: 12px;\n",
              "    }\n",
              "\n",
              "    .colab-df-convert {\n",
              "      background-color: #E8F0FE;\n",
              "      border: none;\n",
              "      border-radius: 50%;\n",
              "      cursor: pointer;\n",
              "      display: none;\n",
              "      fill: #1967D2;\n",
              "      height: 32px;\n",
              "      padding: 0 0 0 0;\n",
              "      width: 32px;\n",
              "    }\n",
              "\n",
              "    .colab-df-convert:hover {\n",
              "      background-color: #E2EBFA;\n",
              "      box-shadow: 0px 1px 2px rgba(60, 64, 67, 0.3), 0px 1px 3px 1px rgba(60, 64, 67, 0.15);\n",
              "      fill: #174EA6;\n",
              "    }\n",
              "\n",
              "    .colab-df-buttons div {\n",
              "      margin-bottom: 4px;\n",
              "    }\n",
              "\n",
              "    [theme=dark] .colab-df-convert {\n",
              "      background-color: #3B4455;\n",
              "      fill: #D2E3FC;\n",
              "    }\n",
              "\n",
              "    [theme=dark] .colab-df-convert:hover {\n",
              "      background-color: #434B5C;\n",
              "      box-shadow: 0px 1px 3px 1px rgba(0, 0, 0, 0.15);\n",
              "      filter: drop-shadow(0px 1px 2px rgba(0, 0, 0, 0.3));\n",
              "      fill: #FFFFFF;\n",
              "    }\n",
              "  </style>\n",
              "\n",
              "    <script>\n",
              "      const buttonEl =\n",
              "        document.querySelector('#df-a7dc9f70-3ad9-4511-8637-30210207c060 button.colab-df-convert');\n",
              "      buttonEl.style.display =\n",
              "        google.colab.kernel.accessAllowed ? 'block' : 'none';\n",
              "\n",
              "      async function convertToInteractive(key) {\n",
              "        const element = document.querySelector('#df-a7dc9f70-3ad9-4511-8637-30210207c060');\n",
              "        const dataTable =\n",
              "          await google.colab.kernel.invokeFunction('convertToInteractive',\n",
              "                                                    [key], {});\n",
              "        if (!dataTable) return;\n",
              "\n",
              "        const docLinkHtml = 'Like what you see? Visit the ' +\n",
              "          '<a target=\"_blank\" href=https://colab.research.google.com/notebooks/data_table.ipynb>data table notebook</a>'\n",
              "          + ' to learn more about interactive tables.';\n",
              "        element.innerHTML = '';\n",
              "        dataTable['output_type'] = 'display_data';\n",
              "        await google.colab.output.renderOutput(dataTable, element);\n",
              "        const docLink = document.createElement('div');\n",
              "        docLink.innerHTML = docLinkHtml;\n",
              "        element.appendChild(docLink);\n",
              "      }\n",
              "    </script>\n",
              "  </div>\n",
              "\n",
              "\n",
              "    <div id=\"df-20d6eec4-3cb4-4289-8f1c-06e05e32663a\">\n",
              "      <button class=\"colab-df-quickchart\" onclick=\"quickchart('df-20d6eec4-3cb4-4289-8f1c-06e05e32663a')\"\n",
              "                title=\"Suggest charts\"\n",
              "                style=\"display:none;\">\n",
              "\n",
              "<svg xmlns=\"http://www.w3.org/2000/svg\" height=\"24px\"viewBox=\"0 0 24 24\"\n",
              "     width=\"24px\">\n",
              "    <g>\n",
              "        <path d=\"M19 3H5c-1.1 0-2 .9-2 2v14c0 1.1.9 2 2 2h14c1.1 0 2-.9 2-2V5c0-1.1-.9-2-2-2zM9 17H7v-7h2v7zm4 0h-2V7h2v10zm4 0h-2v-4h2v4z\"/>\n",
              "    </g>\n",
              "</svg>\n",
              "      </button>\n",
              "\n",
              "<style>\n",
              "  .colab-df-quickchart {\n",
              "      --bg-color: #E8F0FE;\n",
              "      --fill-color: #1967D2;\n",
              "      --hover-bg-color: #E2EBFA;\n",
              "      --hover-fill-color: #174EA6;\n",
              "      --disabled-fill-color: #AAA;\n",
              "      --disabled-bg-color: #DDD;\n",
              "  }\n",
              "\n",
              "  [theme=dark] .colab-df-quickchart {\n",
              "      --bg-color: #3B4455;\n",
              "      --fill-color: #D2E3FC;\n",
              "      --hover-bg-color: #434B5C;\n",
              "      --hover-fill-color: #FFFFFF;\n",
              "      --disabled-bg-color: #3B4455;\n",
              "      --disabled-fill-color: #666;\n",
              "  }\n",
              "\n",
              "  .colab-df-quickchart {\n",
              "    background-color: var(--bg-color);\n",
              "    border: none;\n",
              "    border-radius: 50%;\n",
              "    cursor: pointer;\n",
              "    display: none;\n",
              "    fill: var(--fill-color);\n",
              "    height: 32px;\n",
              "    padding: 0;\n",
              "    width: 32px;\n",
              "  }\n",
              "\n",
              "  .colab-df-quickchart:hover {\n",
              "    background-color: var(--hover-bg-color);\n",
              "    box-shadow: 0 1px 2px rgba(60, 64, 67, 0.3), 0 1px 3px 1px rgba(60, 64, 67, 0.15);\n",
              "    fill: var(--button-hover-fill-color);\n",
              "  }\n",
              "\n",
              "  .colab-df-quickchart-complete:disabled,\n",
              "  .colab-df-quickchart-complete:disabled:hover {\n",
              "    background-color: var(--disabled-bg-color);\n",
              "    fill: var(--disabled-fill-color);\n",
              "    box-shadow: none;\n",
              "  }\n",
              "\n",
              "  .colab-df-spinner {\n",
              "    border: 2px solid var(--fill-color);\n",
              "    border-color: transparent;\n",
              "    border-bottom-color: var(--fill-color);\n",
              "    animation:\n",
              "      spin 1s steps(1) infinite;\n",
              "  }\n",
              "\n",
              "  @keyframes spin {\n",
              "    0% {\n",
              "      border-color: transparent;\n",
              "      border-bottom-color: var(--fill-color);\n",
              "      border-left-color: var(--fill-color);\n",
              "    }\n",
              "    20% {\n",
              "      border-color: transparent;\n",
              "      border-left-color: var(--fill-color);\n",
              "      border-top-color: var(--fill-color);\n",
              "    }\n",
              "    30% {\n",
              "      border-color: transparent;\n",
              "      border-left-color: var(--fill-color);\n",
              "      border-top-color: var(--fill-color);\n",
              "      border-right-color: var(--fill-color);\n",
              "    }\n",
              "    40% {\n",
              "      border-color: transparent;\n",
              "      border-right-color: var(--fill-color);\n",
              "      border-top-color: var(--fill-color);\n",
              "    }\n",
              "    60% {\n",
              "      border-color: transparent;\n",
              "      border-right-color: var(--fill-color);\n",
              "    }\n",
              "    80% {\n",
              "      border-color: transparent;\n",
              "      border-right-color: var(--fill-color);\n",
              "      border-bottom-color: var(--fill-color);\n",
              "    }\n",
              "    90% {\n",
              "      border-color: transparent;\n",
              "      border-bottom-color: var(--fill-color);\n",
              "    }\n",
              "  }\n",
              "</style>\n",
              "\n",
              "      <script>\n",
              "        async function quickchart(key) {\n",
              "          const quickchartButtonEl =\n",
              "            document.querySelector('#' + key + ' button');\n",
              "          quickchartButtonEl.disabled = true;  // To prevent multiple clicks.\n",
              "          quickchartButtonEl.classList.add('colab-df-spinner');\n",
              "          try {\n",
              "            const charts = await google.colab.kernel.invokeFunction(\n",
              "                'suggestCharts', [key], {});\n",
              "          } catch (error) {\n",
              "            console.error('Error during call to suggestCharts:', error);\n",
              "          }\n",
              "          quickchartButtonEl.classList.remove('colab-df-spinner');\n",
              "          quickchartButtonEl.classList.add('colab-df-quickchart-complete');\n",
              "        }\n",
              "        (() => {\n",
              "          let quickchartButtonEl =\n",
              "            document.querySelector('#df-20d6eec4-3cb4-4289-8f1c-06e05e32663a button');\n",
              "          quickchartButtonEl.style.display =\n",
              "            google.colab.kernel.accessAllowed ? 'block' : 'none';\n",
              "        })();\n",
              "      </script>\n",
              "    </div>\n",
              "\n",
              "    </div>\n",
              "  </div>\n"
            ],
            "application/vnd.google.colaboratory.intrinsic+json": {
              "type": "dataframe",
              "variable_name": "df",
              "summary": "{\n  \"name\": \"df\",\n  \"rows\": 65698,\n  \"fields\": [\n    {\n      \"column\": \"title\",\n      \"properties\": {\n        \"dtype\": \"string\",\n        \"num_unique_values\": 58507,\n        \"samples\": [\n          \"Edward Snowden: Journalists Are Endangered Species In America\",\n          \"Turkey detained more than 1,200 people in last week\",\n          \"Ryan, House Republicans offer plan to slice U.S. tax rates\"\n        ],\n        \"semantic_type\": \"\",\n        \"description\": \"\"\n      }\n    },\n    {\n      \"column\": \"text\",\n      \"properties\": {\n        \"dtype\": \"string\",\n        \"num_unique_values\": 59029,\n        \"samples\": [\n          \"- A federal judge on Tuesday blocked an Obama administration rule to extend mandatory overtime pay to more than 4 million salaried workers from taking effect, imperiling one of the outgoing president\\u2019s signature achievements for boosting wages. U.S. District Judge Amos Mazzant, in Sherman, Texas, agreed with 21 states and a coalition of business groups, including the U.S. Chamber of Commerce, that the rule is unlawful and granted their motion for a nationwide injunction.  The rule, issued by the Labor Department, was to take effect Dec. 1 and would have doubled to $47,500 the maximum salary a worker can earn and still be eligible for mandatory overtime pay. The new threshold would have been the first significant change in four decades. It was expected to touch nearly every sector of the U.S. economy and have the greatest impact on nonprofit groups, retail companies, hotels and restaurants, which have many management workers whose salaries are below the new threshold. The states and business groups claimed in lawsuits filed in September, which were later consolidated, that the drastic increase in the salary threshold was arbitrary. On Tuesday, Mazzant, who was appointed by President Barack Obama, ruled that the federal law governing overtime does not allow the Labor Department to decide which workers are eligible based on salary levels alone. The Fair Labor Standards Act says that employees can be exempt from overtime if they perform executive, administrative or professional duties, but the rule \\u201ccreates essentially a de facto salary-only test,\\u201d Mazzant wrote in the 20-page ruling. The states and business groups that challenged the rule applauded the decision. Nevada Attorney General Adam Paul Laxalt said in a statement that the ruling \\u201creinforces the importance of the rule of law and constitutional government.\\u201d The Labor Department said it strongly disagrees with the decision. It remains confident that the entire rule is legal, and it is currently considering its options, department spokesman Jason Surbey said. The Labor Department can appeal to the New Orleans, Louisiana-based 5th U.S. Circuit Court of Appeals, but that court has stymied the Obama administration before, blocking Obama\\u2019s executive actions on immigration in 2015. In any case, the Labor Department could drop the appeal after Republican President-elect Donald Trump takes office in January. In August, Trump told the website Circa that the overtime rule was an example of the type of burdensome business regulations he would seek to roll back as president, perhaps by exempting small businesses or delaying implementation. Even if the rule survived the legal challenge, it could be upended by legislation passed by Congress or withdrawn by Trump\\u2019s Department of Labor.   U.S. Chamber of Commerce official Randy Johnson said in a statement that the rule would have been costly and disruptive to businesses. But Ross Eisenbrey of the left-leaning Economic Policy Institute, which supported the rule, called the decision \\u201cextreme and unsupportable.\\u201d \\u201cIt is also a disappointment to millions of workers who are forced to work long hours with no extra compensation, and is a blow to those Americans who care deeply about raising wages and lessening inequality,\\u201d Eisenbrey said in a statement. The case is Nevada v. U.S. Department of Labor, U.S. District Court for the Eastern District of Texas, No. 16-cv-731.\",\n          \"What a great place to take the whole family!Welcome to the liberal utopia of Germany Things are so bad authorities are posting no defecating in the shower signs.Via Instapundit:The migrants have also tried to storm them women s locker room. Der Bild reported (translated) via Vlad Tepes:Outrageous accusations coming from the Zwickau Townhall: According to B der GmbH, (Baths Inc.) refugees are masturbating and defecating into the water. And they also harass women in the Sauna and have tried to storm the women s changing rooms.All this and more is written in a report from January 19th. Rainer Kallwait, ordinance department leader for B der GmbH, wrote the report for the safety related services of B der GmbH. The city administration has confirmed the authenticity of the report.Kallweit writes of a memo from Johannisbad Swimming Pool. In it it says, among other things: One asylum seeker masturbated in the whirlpool and ejaculated into the water. It is recorded on surveillance camera.  And,  The swimming pool supervisor threw him out. The asylum seeker came back with comrades to get his cell phone. Together the  visitors , hooting and jeering, took a selfie in the whirlpool. The day before  8 foreign men  were in the Sauma .  The local people felt harassed. When women are in the Sauna, asylum seekers are now told that the Sauna is closed. In general refugees only have free access to the swimming pool. They would have to pay for the use of the Sauna. But they won t do that, according to B der GmbH:  When they were prompted to pay up at the register, they turned around, laughed and left. Similar can be read in a memo of  Gl ck-Auf-Schwimmhalle , Halle, in Kallwait s report. A group of  youths, single men and children with guardians  visited said pool in Halle on January 9th. Since none of them could swim,  they used the kids pool. The users contaminated the pool by way of emptying their intestines. Local guests immediately left the pool. Here s another sign telling migrants to not grab women s butts at the pool.Via: Gateway Pundit\",\n          \"The first official meeting between Trump and Russian president Vladimir Putin was captured on what appears to be a cellphone recording   and it s cringeworthy.Trump, who famously views handshakes as a  power contest  and often clamps down and yanks, gives Putin a warm one, placing his other hand on Putin s forearm. Adding to the surreal friendliness of the moment, as the two begin to talk, Trump reaches out, and for reasons that will forever remain inexplicable, appears to pat or rub Putin s upper back.It s official: Donald Trump and Vladimir Putin met at the G20 summit. Watch the event live here: https://t.co/gYrGULM9El pic.twitter.com/CL6f7G7dSp  Newsweek (@Newsweek) July 7, 2017It was a bizarre statement to make, particularly to one of America s foremost adversaries and the one linked to hacking that interfered with the 2016 election.During Trump s public sit-down with Putin, he managed to botch things further. In yet another attempt at getting on Putin s good side, Trump said he was  honored  to be with Putin. The word choice is a diplomatic faux pas, signaling a weak position. Putin ate it up, then simply said he was  delighted  to meet Trump. Note the difference.As Huffington Post reporter Yashar Ali explains, the awkward interaction could have been avoided if Trump would read his briefings.Trump to Putin \\\"it's an honor to be with you.\\\" Had he been willing to receive a briefing he would have been told to avoid words like \\\"honor\\\" pic.twitter.com/oYFlutDFpi  Yashar Ali (@yashar) July 7, 20172. In briefings, principals like Trump will be told how to avoid becoming propaganda material.  Yashar Ali (@yashar) July 7, 20173. But if you don't take briefings, if you're impatient + have a difficult time reading long briefing books you'll miss out on these details  Yashar Ali (@yashar) July 7, 2017Recently, it was reported that Trump s exasperated staff have taken to reducing briefings down to  Twitter-length  memos in an effort to entice Trump to read them. Apparently, it either didn t work or the nuances of international diplomacy weren t properly conveyed in 140 characters. Trump is falling into every trap.The meeting was undoubtedly a disaster for American foreign policy, but Putin seems to be having a great time. By receiving praise from the U.S. president who he helped get elected by undermining American democracy, the Russian autocrat signaled that he has Trump eating out of his hand. The photos and videos of the meeting will likely be hastily broadcast to every corner of Russia to reinforce Putin s dominance over America s president.And Trump, who couldn t be bothered to read the memos warning him of this, probably has no idea.Featured image via Twitter\"\n        ],\n        \"semantic_type\": \"\",\n        \"description\": \"\"\n      }\n    },\n    {\n      \"column\": \"unreliable\",\n      \"properties\": {\n        \"dtype\": \"number\",\n        \"std\": 0,\n        \"min\": 0,\n        \"max\": 1,\n        \"num_unique_values\": 2,\n        \"samples\": [\n          0,\n          1\n        ],\n        \"semantic_type\": \"\",\n        \"description\": \"\"\n      }\n    },\n    {\n      \"column\": \"author\",\n      \"properties\": {\n        \"dtype\": \"category\",\n        \"num_unique_values\": 4202,\n        \"samples\": [\n          \"Esha Chhabra\",\n          \"Choe Sang-Hun and Rick Gladstone\"\n        ],\n        \"semantic_type\": \"\",\n        \"description\": \"\"\n      }\n    }\n  ]\n}"
            }
          },
          "metadata": {},
          "execution_count": 10
        }
      ],
      "source": [
        "import pandas as pd\n",
        "\n",
        "df = pd.read_csv(\"fake_news/dataset.csv\")  # Update filename if different\n",
        "df.head()\n"
      ]
    },
    {
      "cell_type": "code",
      "execution_count": null,
      "metadata": {
        "id": "Agh3OX3vv0MQ"
      },
      "outputs": [],
      "source": [
        "df['content'] = df['title'].fillna('') + ' ' + df['text'].fillna('')\n"
      ]
    },
    {
      "cell_type": "code",
      "execution_count": null,
      "metadata": {
        "colab": {
          "base_uri": "https://localhost:8080/"
        },
        "id": "C8EIQ8i6wHsG",
        "outputId": "f5ce72f3-5a06-4f39-e1e7-3935c5ee113d"
      },
      "outputs": [
        {
          "output_type": "stream",
          "name": "stdout",
          "text": [
            "                                               title  \\\n",
            "0  WARNING: A Pivotal Moment For The Stock Market...   \n",
            "1  Trump, top defense officials, discuss North Ko...   \n",
            "2  British civil servants' union calls nationwide...   \n",
            "3   A**hole Of The Day – Michele Bachmann: Muslim...   \n",
            "4  ’Deport Fat People’ Posters Appear At CU Bould...   \n",
            "\n",
            "                                                text  \\\n",
            "0  WARNING: A Pivotal Moment For The Stock Market...   \n",
            "1  WASHINGTON  - U.S. President Donald Trump met ...   \n",
            "2  LONDON  - British civil servants will vote nex...   \n",
            "3  Michele Bachmann has been pretty quiet since l...   \n",
            "4  Posters calling on Donald Trump to “Deport Fat...   \n",
            "\n",
            "                                             content  label  \n",
            "0  WARNING: A Pivotal Moment For The Stock Market...      1  \n",
            "1  Trump, top defense officials, discuss North Ko...      0  \n",
            "2  British civil servants' union calls nationwide...      0  \n",
            "3   A**hole Of The Day – Michele Bachmann: Muslim...      1  \n",
            "4  ’Deport Fat People’ Posters Appear At CU Bould...      0  \n"
          ]
        }
      ],
      "source": [
        "df['label'] = df['unreliable']\n",
        "\n",
        "# Check result\n",
        "print(df[['title', 'text', 'content', 'label']].head())"
      ]
    },
    {
      "cell_type": "code",
      "execution_count": null,
      "metadata": {
        "id": "rqeA9GTEwMhV"
      },
      "outputs": [],
      "source": [
        "import re, string, nltk\n",
        "from nltk.corpus import stopwords\n",
        "from nltk.stem import WordNetLemmatizer"
      ]
    },
    {
      "cell_type": "code",
      "execution_count": null,
      "metadata": {
        "colab": {
          "base_uri": "https://localhost:8080/"
        },
        "id": "115D-zCtwOr2",
        "outputId": "d712ab4e-b98a-4478-a143-5d65d4d2e32b"
      },
      "outputs": [
        {
          "output_type": "stream",
          "name": "stderr",
          "text": [
            "[nltk_data] Downloading package stopwords to /root/nltk_data...\n",
            "[nltk_data]   Unzipping corpora/stopwords.zip.\n",
            "[nltk_data] Downloading package wordnet to /root/nltk_data...\n"
          ]
        }
      ],
      "source": [
        "nltk.download('stopwords')\n",
        "nltk.download('wordnet')\n",
        "\n",
        "stop_words = set(stopwords.words('english'))\n",
        "lemmatizer = WordNetLemmatizer()\n",
        "\n",
        "def preprocess(text):\n",
        "    text = text.lower()\n",
        "    text = re.sub(f\"[{string.punctuation}]\", \"\", text)\n",
        "    text = re.sub(r'\\d+', '', text)\n",
        "    words = [w for w in text.split() if w not in stop_words]\n",
        "    words = [lemmatizer.lemmatize(w) for w in words]\n",
        "    return ' '.join(words)"
      ]
    },
    {
      "cell_type": "code",
      "execution_count": null,
      "metadata": {
        "id": "QIzgm6q8w-z2"
      },
      "outputs": [],
      "source": [
        "df['cleaned_content'] = df['content'].apply(preprocess)\n",
        "\n",
        "#  STEP 9: Remove short documents (<5 words)\n",
        "df = df[df['cleaned_content'].str.split().str.len() > 5]"
      ]
    },
    {
      "cell_type": "code",
      "execution_count": null,
      "metadata": {
        "id": "-yVAJhE90IFP"
      },
      "outputs": [],
      "source": [
        "from tensorflow.keras.preprocessing.text import Tokenizer\n",
        "from tensorflow.keras.preprocessing.sequence import pad_sequences\n"
      ]
    },
    {
      "cell_type": "code",
      "execution_count": null,
      "metadata": {
        "colab": {
          "base_uri": "https://localhost:8080/"
        },
        "id": "KuJvM79r0Oay",
        "outputId": "12ff5b81-0c78-455e-badb-080b1645c0b6"
      },
      "outputs": [
        {
          "output_type": "stream",
          "name": "stdout",
          "text": [
            "Tokenization completed.\n",
            "Total unique words in word_index: 403244\n",
            " Word Index Mapping (First 10 words):\n",
            "<OOV>: 1\n",
            "said: 2\n",
            "trump: 3\n",
            "u: 4\n",
            "state: 5\n",
            "would: 6\n",
            "president: 7\n",
            "mr: 8\n",
            "people: 9\n",
            "one: 10\n"
          ]
        }
      ],
      "source": [
        "# ---------------- STEP 1: Tokenization ----------------\n",
        "VOCAB_SIZE = 10000  # Number of unique words to keep\n",
        "tokenizer = Tokenizer(num_words=VOCAB_SIZE, oov_token=\"<OOV>\")\n",
        "tokenizer.fit_on_texts(df['cleaned_content'])\n",
        "\n",
        "#  Verify tokenization\n",
        "print(\"Tokenization completed.\")\n",
        "print(f\"Total unique words in word_index: {len(tokenizer.word_index)}\")\n",
        "print(\" Word Index Mapping (First 10 words):\")\n",
        "for word, index in list(tokenizer.word_index.items())[:10]:\n",
        "    print(f\"{word}: {index}\")\n"
      ]
    },
    {
      "cell_type": "code",
      "execution_count": null,
      "metadata": {
        "colab": {
          "base_uri": "https://localhost:8080/"
        },
        "id": "E8qrlIM21Thh",
        "outputId": "386f61d7-103e-4db7-932b-40a0329592f2"
      },
      "outputs": [
        {
          "output_type": "stream",
          "name": "stdout",
          "text": [
            "\n",
            " Tokenized Sequence (Example):\n",
            "[1172, 6932, 625, 1338, 372, 47, 1172, 6932, 625, 1338, 372, 47, 676, 2147, 155, 152, 642, 1, 1407, 1, 2187, 7023, 1886, 147, 7895, 1, 679, 2665, 5778, 5998, 1]\n"
          ]
        }
      ],
      "source": [
        "# ---------------- STEP 2: Text to sequences ----------------\n",
        "sequences = tokenizer.texts_to_sequences(df['cleaned_content'])\n",
        "\n",
        "#  Verify sequences\n",
        "print(\"\\n Tokenized Sequence (Example):\")\n",
        "print(sequences[0])\n"
      ]
    },
    {
      "cell_type": "code",
      "execution_count": null,
      "metadata": {
        "colab": {
          "base_uri": "https://localhost:8080/"
        },
        "id": "1rHxtNRe1ljX",
        "outputId": "bb22fb11-f0e9-4f90-eb63-765f01f1c034"
      },
      "outputs": [
        {
          "output_type": "stream",
          "name": "stdout",
          "text": [
            "\n",
            " Padded Sequence (Example):\n",
            "[1172 6932  625 1338  372   47 1172 6932  625 1338  372   47  676 2147\n",
            "  155  152  642    1 1407    1 2187 7023 1886  147 7895    1  679 2665\n",
            " 5778 5998    1    0    0    0    0    0    0    0    0    0    0    0\n",
            "    0    0    0    0    0    0    0    0    0    0    0    0    0    0\n",
            "    0    0    0    0    0    0    0    0    0    0    0    0    0    0\n",
            "    0    0    0    0    0    0    0    0    0    0    0    0    0    0\n",
            "    0    0    0    0    0    0    0    0    0    0    0    0    0    0\n",
            "    0    0    0    0    0    0    0    0    0    0    0    0    0    0\n",
            "    0    0    0    0    0    0    0    0    0    0    0    0    0    0\n",
            "    0    0    0    0    0    0    0    0    0    0    0    0    0    0\n",
            "    0    0    0    0    0    0    0    0    0    0    0    0    0    0\n",
            "    0    0    0    0    0    0    0    0    0    0    0    0    0    0\n",
            "    0    0    0    0    0    0    0    0    0    0    0    0    0    0\n",
            "    0    0    0    0    0    0    0    0    0    0    0    0    0    0\n",
            "    0    0    0    0]\n",
            "Length of padded sequence: 200\n",
            "\n",
            " Padded Sequence (Example):\n",
            "[1172 6932  625 1338  372   47 1172 6932  625 1338  372   47  676 2147\n",
            "  155  152  642    1 1407    1 2187 7023 1886  147 7895    1  679 2665\n",
            " 5778 5998    1    0    0    0    0    0    0    0    0    0    0    0\n",
            "    0    0    0    0    0    0    0    0    0    0    0    0    0    0\n",
            "    0    0    0    0    0    0    0    0    0    0    0    0    0    0\n",
            "    0    0    0    0    0    0    0    0    0    0    0    0    0    0\n",
            "    0    0    0    0    0    0    0    0    0    0    0    0    0    0\n",
            "    0    0    0    0    0    0    0    0    0    0    0    0    0    0\n",
            "    0    0    0    0    0    0    0    0    0    0    0    0    0    0\n",
            "    0    0    0    0    0    0    0    0    0    0    0    0    0    0\n",
            "    0    0    0    0    0    0    0    0    0    0    0    0    0    0\n",
            "    0    0    0    0    0    0    0    0    0    0    0    0    0    0\n",
            "    0    0    0    0    0    0    0    0    0    0    0    0    0    0\n",
            "    0    0    0    0    0    0    0    0    0    0    0    0    0    0\n",
            "    0    0    0    0]\n",
            "Length of padded sequence: 200\n"
          ]
        }
      ],
      "source": [
        "# ---------------- STEP 3: Padding sequences ----------------\n",
        "MAX_SEQUENCE_LENGTH = 200\n",
        "X_padded = pad_sequences(sequences, maxlen=MAX_SEQUENCE_LENGTH, padding='post', truncating='post')\n",
        "# Save a copy for LSTM\n",
        "X_lstm = X_padded.copy()\n",
        "#  Verify padding\n",
        "print(\"\\n Padded Sequence (Example):\")\n",
        "print(X_padded[0])\n",
        "print(\"Length of padded sequence:\", len(X_padded[0]))\n",
        "#  Verify padding\n",
        "print(\"\\n Padded Sequence (Example):\")\n",
        "print(X_lstm[0])\n",
        "print(\"Length of padded sequence:\", len(X_padded[0]))"
      ]
    },
    {
      "cell_type": "code",
      "execution_count": null,
      "metadata": {
        "colab": {
          "base_uri": "https://localhost:8080/"
        },
        "id": "i--60CTZ1qMX",
        "outputId": "c9b25174-3fe6-4c61-973a-c274a8f1f773"
      },
      "outputs": [
        {
          "output_type": "stream",
          "name": "stdout",
          "text": [
            "\n",
            " Shape of padded features (X_padded): (65539, 200)\n",
            " Shape of labels (y): (65539,)\n",
            "\n",
            " Class distribution:\n",
            "1    33736\n",
            "0    31803\n",
            "Name: count, dtype: int64\n"
          ]
        }
      ],
      "source": [
        "# ---------------- STEP 4: Prepare labels ----------------\n",
        "y = df['label'].values\n",
        "\n",
        "#  Check shapes\n",
        "print(\"\\n Shape of padded features (X_padded):\", X_padded.shape)\n",
        "print(\" Shape of labels (y):\", y.shape)\n",
        "\n",
        "#  Optional: Check how many labels of each class\n",
        "print(\"\\n Class distribution:\")\n",
        "print(pd.Series(y).value_counts())"
      ]
    },
    {
      "cell_type": "code",
      "execution_count": null,
      "metadata": {
        "id": "TJFN_uJT9431"
      },
      "outputs": [],
      "source": [
        "#passing the padded sequences (output of the tokenization + padding steps) into your traditional ML models like Logistic Regression, which expect numerical vectors (not embeddings) is wrong\n",
        "# should convert the text data to numerical features before splitting the data — typically using TF-IDF (Term Frequency-Inverse Document Frequency) or CountVectorizer.\n",
        "from sklearn.feature_extraction.text import CountVectorizer\n",
        "\n",
        "# CountVectorizer for traditional ML\n",
        "count_vect = CountVectorizer(max_features=5000)\n",
        "X_count = count_vect.fit_transform(df['text'].astype('U'))\n",
        "\n"
      ]
    },
    {
      "cell_type": "code",
      "execution_count": null,
      "metadata": {
        "colab": {
          "base_uri": "https://localhost:8080/"
        },
        "id": "T2TrSqMT5EFl",
        "outputId": "722c1142-2297-4882-c19c-166969ade85c"
      },
      "outputs": [
        {
          "output_type": "stream",
          "name": "stdout",
          "text": [
            "\n",
            " Data split completed.\n",
            "Training samples: 65539\n",
            "Validation samples: 6554\n",
            "Testing samples: 6554\n"
          ]
        }
      ],
      "source": [
        "# STEP 5: Train/Test Split\n",
        "\n",
        "from sklearn.model_selection import train_test_split\n",
        "\n",
        "# Split: 80% Train, 10% Validation, 10% Test\n",
        "X_train_val, X_test, y_train_val, y_test = train_test_split(X_count ,y, test_size=0.1, random_state=42)\n",
        "X_train, X_val, y_train, y_val = train_test_split(X_train_val, y_train_val, test_size=0.1111, random_state=42)  # 0.1111 ≈ 10% of full\n",
        "\n",
        "# Verify splits\n",
        "print(\"\\n Data split completed.\")\n",
        "print(f\"Training samples: {X_count.shape[0]}\")\n",
        "print(f\"Validation samples: {X_val.shape[0]}\")\n",
        "print(f\"Testing samples: {X_test.shape[0]}\")\n"
      ]
    },
    {
      "cell_type": "code",
      "execution_count": null,
      "metadata": {
        "colab": {
          "base_uri": "https://localhost:8080/"
        },
        "id": "EUO7X7JtH_DJ",
        "outputId": "71701a42-4be3-4e5f-9908-076a54f8eb28"
      },
      "outputs": [
        {
          "output_type": "stream",
          "name": "stdout",
          "text": [
            "\n",
            " Data split completed for LSTM.\n",
            "LSTM Training samples: 52431\n",
            "LSTM Validation samples: 6554\n",
            "LSTM Testing samples: 6554\n"
          ]
        }
      ],
      "source": [
        "# LSTM-related split (for the padded sequences)\n",
        "X_train_val_lstm, X_test_lstm, y_train_val_lstm, y_test_lstm = train_test_split(X_lstm, y, test_size=0.1, random_state=42)\n",
        "X_train_lstm, X_val_lstm, y_train_lstm, y_val_lstm = train_test_split(X_train_val_lstm, y_train_val_lstm, test_size=0.1111, random_state=42)  # 0.1111 ≈ 10% of full\n",
        "\n",
        "# Verify splits for LSTM\n",
        "print(\"\\n Data split completed for LSTM.\")\n",
        "print(f\"LSTM Training samples: {X_train_lstm.shape[0]}\")\n",
        "print(f\"LSTM Validation samples: {X_val_lstm.shape[0]}\")\n",
        "print(f\"LSTM Testing samples: {X_test_lstm.shape[0]}\")\n"
      ]
    },
    {
      "cell_type": "code",
      "execution_count": null,
      "metadata": {
        "id": "PlDNUNb8AShG"
      },
      "outputs": [],
      "source": [
        "from sklearn.linear_model import LogisticRegression\n",
        "import seaborn as sns\n",
        "from sklearn.svm import SVC\n",
        "from sklearn.ensemble import RandomForestClassifier\n",
        "from sklearn.metrics import (\n",
        "    accuracy_score, precision_score, recall_score, f1_score,\n",
        "    confusion_matrix, roc_curve, auc\n",
        ")\n",
        "import matplotlib.pyplot as plt\n",
        "from sklearn.ensemble import GradientBoostingClassifier\n",
        "\n",
        "def evaluate_model(name, model, X_train, y_train, X_test, y_test):\n",
        "    # Predictions & probabilities\n",
        "    probs = model.predict_proba(X_test)[:, 1]\n",
        "    preds = model.predict(X_test)\n",
        "\n",
        "    # Metrics\n",
        "    train_acc = model.score(X_train, y_train)\n",
        "    test_acc = model.score(X_test, y_test)\n",
        "    acc = accuracy_score(y_test, preds)\n",
        "    prec = precision_score(y_test, preds)\n",
        "    rec = recall_score(y_test, preds)\n",
        "    f1 = f1_score(y_test, preds)\n",
        "    fpr, tpr, _ = roc_curve(y_test, probs)\n",
        "    auc_score = auc(fpr, tpr)\n",
        "\n",
        "    # Print results\n",
        "    print(f\"\\n📊 {name} Evaluation Metrics:\")\n",
        "    print(f\"Training Accuracy: {train_acc:.4f}\")\n",
        "    print(f\"Testing Accuracy: {test_acc:.4f}\")\n",
        "    print(f\"Accuracy: {acc:.4f}\")\n",
        "    print(f\"Precision: {prec:.4f}\")\n",
        "    print(f\"Recall: {rec:.4f}\")\n",
        "    print(f\"F1 Score: {f1:.4f}\")\n",
        "    print(f\"AUC Score: {auc_score:.4f}\")\n",
        "\n",
        "    # Confusion Matrix\n",
        "    cm = confusion_matrix(y_test, preds)\n",
        "    plt.figure(figsize=(5, 4))\n",
        "    sns.heatmap(cm, annot=True, fmt=\"d\", cmap=\"Blues\", xticklabels=['Fake', 'Real'], yticklabels=['Fake', 'Real'])\n",
        "    plt.title(f'🧩 Confusion Matrix - {name}')\n",
        "    plt.xlabel('Predicted')\n",
        "    plt.ylabel('Actual')\n",
        "    plt.show()\n",
        "\n",
        "    # ROC Curve\n",
        "    fpr, tpr, _ = roc_curve(y_test, probs)\n",
        "    auc_score = auc(fpr, tpr)\n",
        "    plt.plot(fpr, tpr, label=f\"{name} (AUC = {auc_score:.2f})\")\n",
        "    return fpr, tpr, auc_score, name\n"
      ]
    },
    {
      "cell_type": "code",
      "execution_count": null,
      "metadata": {
        "colab": {
          "base_uri": "https://localhost:8080/",
          "height": 1000
        },
        "id": "zvf5NXsYOBSF",
        "outputId": "81360dfe-a868-4c80-a9c8-d913c7ca0571"
      },
      "outputs": [
        {
          "output_type": "stream",
          "name": "stderr",
          "text": [
            "/usr/local/lib/python3.11/dist-packages/sklearn/linear_model/_logistic.py:465: ConvergenceWarning: lbfgs failed to converge (status=1):\n",
            "STOP: TOTAL NO. OF ITERATIONS REACHED LIMIT.\n",
            "\n",
            "Increase the number of iterations (max_iter) or scale the data as shown in:\n",
            "    https://scikit-learn.org/stable/modules/preprocessing.html\n",
            "Please also refer to the documentation for alternative solver options:\n",
            "    https://scikit-learn.org/stable/modules/linear_model.html#logistic-regression\n",
            "  n_iter_i = _check_optimize_result(\n",
            "/usr/local/lib/python3.11/dist-packages/IPython/core/pylabtools.py:151: UserWarning: Glyph 129513 (\\N{JIGSAW PUZZLE PIECE}) missing from font(s) DejaVu Sans.\n",
            "  fig.canvas.print_figure(bytes_io, **kw)\n"
          ]
        },
        {
          "output_type": "stream",
          "name": "stdout",
          "text": [
            "\n",
            "📊 Logistic Regression Evaluation Metrics:\n",
            "Training Accuracy: 0.9995\n",
            "Testing Accuracy: 0.9420\n",
            "Accuracy: 0.9420\n",
            "Precision: 0.9331\n",
            "Recall: 0.9530\n",
            "F1 Score: 0.9429\n",
            "AUC Score: 0.9758\n"
          ]
        },
        {
          "output_type": "display_data",
          "data": {
            "text/plain": [
              "<Figure size 500x400 with 2 Axes>"
            ],
            "image/png": "[encoded data removed]"
          },
          "metadata": {}
        },
        {
          "output_type": "display_data",
          "data": {
            "text/plain": [
              "<Figure size 640x480 with 1 Axes>"
            ],
            "image/png": "[encoded data removed]"
          },
          "metadata": {}
        }
      ],
      "source": [
        "roc_data = []\n",
        "\n",
        "# Logistic Regression\n",
        "log_model = LogisticRegression(C=10, penalty='l2', solver='lbfgs', max_iter=1000)\n",
        "log_model.fit(X_train, y_train)\n",
        "roc_data.append(evaluate_model(\"Logistic Regression\", log_model, X_train, y_train, X_test, y_test))\n"
      ]
    },
    {
      "cell_type": "code",
      "execution_count": null,
      "metadata": {
        "colab": {
          "base_uri": "https://localhost:8080/",
          "height": 1000
        },
        "id": "Yq1-ZPXiObvU",
        "outputId": "931662de-35a5-4e9a-8960-87981fb6c42f"
      },
      "outputs": [
        {
          "output_type": "stream",
          "name": "stdout",
          "text": [
            "\n",
            "📊 Random Forest Evaluation Metrics:\n",
            "Training Accuracy: 1.0000\n",
            "Testing Accuracy: 0.9452\n",
            "Accuracy: 0.9452\n",
            "Precision: 0.9440\n",
            "Recall: 0.9472\n",
            "F1 Score: 0.9456\n",
            "AUC Score: 0.9899\n"
          ]
        },
        {
          "output_type": "stream",
          "name": "stderr",
          "text": [
            "/usr/local/lib/python3.11/dist-packages/IPython/core/pylabtools.py:151: UserWarning: Glyph 129513 (\\N{JIGSAW PUZZLE PIECE}) missing from font(s) DejaVu Sans.\n",
            "  fig.canvas.print_figure(bytes_io, **kw)\n"
          ]
        },
        {
          "output_type": "display_data",
          "data": {
            "text/plain": [
              "<Figure size 500x400 with 2 Axes>"
            ],
            "image/png": "[encoded data removed]"
          },
          "metadata": {}
        },
        {
          "output_type": "display_data",
          "data": {
            "text/plain": [
              "<Figure size 640x480 with 1 Axes>"
            ],
            "image/png": "[encoded data removed]"
          },
          "metadata": {}
        }
      ],
      "source": [
        "# Random Forest\n",
        "rf_model = RandomForestClassifier(n_estimators=100, random_state=42)\n",
        "rf_model.fit(X_train, y_train)\n",
        "roc_data.append(evaluate_model(\"Random Forest\", rf_model, X_train, y_train, X_test, y_test))\n"
      ]
    },
    {
      "cell_type": "code",
      "execution_count": null,
      "metadata": {
        "colab": {
          "base_uri": "https://localhost:8080/",
          "height": 1000
        },
        "id": "BcEHnAjqOT68",
        "outputId": "6ead668a-a9b7-4c7f-ee10-4b403423c098"
      },
      "outputs": [
        {
          "output_type": "stream",
          "name": "stdout",
          "text": [
            "\n",
            "📊 Gradient Boosting Evaluation Metrics:\n",
            "Training Accuracy: 0.9314\n",
            "Testing Accuracy: 0.9266\n",
            "Accuracy: 0.9266\n",
            "Precision: 0.9284\n",
            "Recall: 0.9253\n",
            "F1 Score: 0.9269\n",
            "AUC Score: 0.9788\n"
          ]
        },
        {
          "output_type": "stream",
          "name": "stderr",
          "text": [
            "/usr/local/lib/python3.11/dist-packages/IPython/core/pylabtools.py:151: UserWarning: Glyph 129513 (\\N{JIGSAW PUZZLE PIECE}) missing from font(s) DejaVu Sans.\n",
            "  fig.canvas.print_figure(bytes_io, **kw)\n"
          ]
        },
        {
          "output_type": "display_data",
          "data": {
            "text/plain": [
              "<Figure size 500x400 with 2 Axes>"
            ],
            "image/png": "[encoded data removed]"
          },
          "metadata": {}
        },
        {
          "output_type": "display_data",
          "data": {
            "text/plain": [
              "<Figure size 640x480 with 1 Axes>"
            ],
            "image/png": "[encoded data removed]"
          },
          "metadata": {}
        }
      ],
      "source": [
        "# Gradient Boosting\n",
        "gb_model = GradientBoostingClassifier(n_estimators=100, learning_rate=0.1, max_depth=3, random_state=42)\n",
        "gb_model.fit(X_train, y_train)\n",
        "roc_data.append(evaluate_model(\"Gradient Boosting\", gb_model, X_train, y_train, X_test, y_test))"
      ]
    },
    {
      "cell_type": "code",
      "execution_count": null,
      "metadata": {
        "id": "5HfFjqoxOvDf",
        "colab": {
          "base_uri": "https://localhost:8080/",
          "height": 564
        },
        "outputId": "649cd911-64b4-40fe-86bb-9e0539f24809"
      },
      "outputs": [
        {
          "output_type": "display_data",
          "data": {
            "text/plain": [
              "<Figure size 800x600 with 1 Axes>"
            ],
            "image/png": "[encoded data removed]"
          },
          "metadata": {}
        }
      ],
      "source": [
        "# Plot all ROC curves\n",
        "plt.figure(figsize=(8, 6))\n",
        "for fpr, tpr, auc_score, label in roc_data:\n",
        "    plt.plot(fpr, tpr, label=f\"{label} (AUC = {auc_score:.2f})\")\n",
        "\n",
        "# Plot diagonal (random guess)\n",
        "plt.plot([0, 1], [0, 1], linestyle='--', color='gray')\n",
        "\n",
        "plt.xlabel('False Positive Rate')\n",
        "plt.ylabel('True Positive Rate')\n",
        "plt.title('ROC Curve - All ML Models')\n",
        "plt.legend(loc='lower right')\n",
        "plt.grid(True)\n",
        "plt.show()\n",
        "\n"
      ]
    },
    {
      "cell_type": "code",
      "execution_count": null,
      "metadata": {
        "id": "wJe0v0dG0j7w"
      },
      "outputs": [],
      "source": [
        "from tensorflow.keras.models import Sequential\n",
        "from tensorflow.keras.layers import Embedding, LSTM, Dense, Dropout\n",
        "from tensorflow.keras.optimizers import Adam\n"
      ]
    },
    {
      "cell_type": "code",
      "execution_count": null,
      "metadata": {
        "id": "JdhlNT0T4AfA"
      },
      "outputs": [],
      "source": [
        "VOCAB_SIZE = 10000\n",
        "EMBEDDING_DIM = 64\n",
        "MAX_SEQUENCE_LENGTH = 200\n"
      ]
    },
    {
      "cell_type": "code",
      "execution_count": null,
      "metadata": {
        "id": "Ob0Q5NeNEuBV",
        "colab": {
          "base_uri": "https://localhost:8080/"
        },
        "outputId": "8ad9b6ea-b623-466b-9241-cf1311979cb7"
      },
      "outputs": [
        {
          "output_type": "stream",
          "name": "stderr",
          "text": [
            "/usr/local/lib/python3.11/dist-packages/keras/src/layers/core/embedding.py:90: UserWarning: Argument `input_length` is deprecated. Just remove it.\n",
            "  warnings.warn(\n"
          ]
        }
      ],
      "source": [
        "model = Sequential([\n",
        "    Embedding(input_dim=VOCAB_SIZE, output_dim=EMBEDDING_DIM, input_length=MAX_SEQUENCE_LENGTH), #Word Embeddings is applied in the LSTM model through The Embedding layer automatically handles this conversion into word embeddings.\n",
        "    LSTM(64, return_sequences=False),\n",
        "    Dropout(0.5),\n",
        "    Dense(32, activation='relu'),\n",
        "    Dense(1, activation='sigmoid')\n",
        "])\n"
      ]
    },
    {
      "cell_type": "code",
      "execution_count": null,
      "metadata": {
        "id": "OgzIp4huExIj",
        "colab": {
          "base_uri": "https://localhost:8080/",
          "height": 306
        },
        "outputId": "a9d745c6-eb75-4181-ca7b-28abd17fae19"
      },
      "outputs": [
        {
          "output_type": "display_data",
          "data": {
            "text/plain": [
              "\u001b[1mModel: \"sequential_1\"\u001b[0m\n"
            ],
            "text/html": [
              "<pre style=\"white-space:pre;overflow-x:auto;line-height:normal;font-family:Menlo,'DejaVu Sans Mono',consolas,'Courier New',monospace\"><span style=\"font-weight: bold\">Model: \"sequential_1\"</span>\n",
              "</pre>\n"
            ]
          },
          "metadata": {}
        },
        {
          "output_type": "display_data",
          "data": {
            "text/plain": [
              "┏━━━━━━━━━━━━━━━━━━━━━━━━━━━━━━━━━┳━━━━━━━━━━━━━━━━━━━━━━━━┳━━━━━━━━━━━━━━━┓\n",
              "┃\u001b[1m \u001b[0m\u001b[1mLayer (type)                   \u001b[0m\u001b[1m \u001b[0m┃\u001b[1m \u001b[0m\u001b[1mOutput Shape          \u001b[0m\u001b[1m \u001b[0m┃\u001b[1m \u001b[0m\u001b[1m      Param #\u001b[0m\u001b[1m \u001b[0m┃\n",
              "┡━━━━━━━━━━━━━━━━━━━━━━━━━━━━━━━━━╇━━━━━━━━━━━━━━━━━━━━━━━━╇━━━━━━━━━━━━━━━┩\n",
              "│ embedding_1 (\u001b[38;5;33mEmbedding\u001b[0m)         │ ?                      │   \u001b[38;5;34m0\u001b[0m (unbuilt) │\n",
              "├─────────────────────────────────┼────────────────────────┼───────────────┤\n",
              "│ lstm_1 (\u001b[38;5;33mLSTM\u001b[0m)                   │ ?                      │   \u001b[38;5;34m0\u001b[0m (unbuilt) │\n",
              "├─────────────────────────────────┼────────────────────────┼───────────────┤\n",
              "│ dropout_1 (\u001b[38;5;33mDropout\u001b[0m)             │ ?                      │             \u001b[38;5;34m0\u001b[0m │\n",
              "├─────────────────────────────────┼────────────────────────┼───────────────┤\n",
              "│ dense_2 (\u001b[38;5;33mDense\u001b[0m)                 │ ?                      │   \u001b[38;5;34m0\u001b[0m (unbuilt) │\n",
              "├─────────────────────────────────┼────────────────────────┼───────────────┤\n",
              "│ dense_3 (\u001b[38;5;33mDense\u001b[0m)                 │ ?                      │   \u001b[38;5;34m0\u001b[0m (unbuilt) │\n",
              "└─────────────────────────────────┴────────────────────────┴───────────────┘\n"
            ],
            "text/html": [
              "<pre style=\"white-space:pre;overflow-x:auto;line-height:normal;font-family:Menlo,'DejaVu Sans Mono',consolas,'Courier New',monospace\">┏━━━━━━━━━━━━━━━━━━━━━━━━━━━━━━━━━┳━━━━━━━━━━━━━━━━━━━━━━━━┳━━━━━━━━━━━━━━━┓\n",
              "┃<span style=\"font-weight: bold\"> Layer (type)                    </span>┃<span style=\"font-weight: bold\"> Output Shape           </span>┃<span style=\"font-weight: bold\">       Param # </span>┃\n",
              "┡━━━━━━━━━━━━━━━━━━━━━━━━━━━━━━━━━╇━━━━━━━━━━━━━━━━━━━━━━━━╇━━━━━━━━━━━━━━━┩\n",
              "│ embedding_1 (<span style=\"color: #0087ff; text-decoration-color: #0087ff\">Embedding</span>)         │ ?                      │   <span style=\"color: #00af00; text-decoration-color: #00af00\">0</span> (unbuilt) │\n",
              "├─────────────────────────────────┼────────────────────────┼───────────────┤\n",
              "│ lstm_1 (<span style=\"color: #0087ff; text-decoration-color: #0087ff\">LSTM</span>)                   │ ?                      │   <span style=\"color: #00af00; text-decoration-color: #00af00\">0</span> (unbuilt) │\n",
              "├─────────────────────────────────┼────────────────────────┼───────────────┤\n",
              "│ dropout_1 (<span style=\"color: #0087ff; text-decoration-color: #0087ff\">Dropout</span>)             │ ?                      │             <span style=\"color: #00af00; text-decoration-color: #00af00\">0</span> │\n",
              "├─────────────────────────────────┼────────────────────────┼───────────────┤\n",
              "│ dense_2 (<span style=\"color: #0087ff; text-decoration-color: #0087ff\">Dense</span>)                 │ ?                      │   <span style=\"color: #00af00; text-decoration-color: #00af00\">0</span> (unbuilt) │\n",
              "├─────────────────────────────────┼────────────────────────┼───────────────┤\n",
              "│ dense_3 (<span style=\"color: #0087ff; text-decoration-color: #0087ff\">Dense</span>)                 │ ?                      │   <span style=\"color: #00af00; text-decoration-color: #00af00\">0</span> (unbuilt) │\n",
              "└─────────────────────────────────┴────────────────────────┴───────────────┘\n",
              "</pre>\n"
            ]
          },
          "metadata": {}
        },
        {
          "output_type": "display_data",
          "data": {
            "text/plain": [
              "\u001b[1m Total params: \u001b[0m\u001b[38;5;34m0\u001b[0m (0.00 B)\n"
            ],
            "text/html": [
              "<pre style=\"white-space:pre;overflow-x:auto;line-height:normal;font-family:Menlo,'DejaVu Sans Mono',consolas,'Courier New',monospace\"><span style=\"font-weight: bold\"> Total params: </span><span style=\"color: #00af00; text-decoration-color: #00af00\">0</span> (0.00 B)\n",
              "</pre>\n"
            ]
          },
          "metadata": {}
        },
        {
          "output_type": "display_data",
          "data": {
            "text/plain": [
              "\u001b[1m Trainable params: \u001b[0m\u001b[38;5;34m0\u001b[0m (0.00 B)\n"
            ],
            "text/html": [
              "<pre style=\"white-space:pre;overflow-x:auto;line-height:normal;font-family:Menlo,'DejaVu Sans Mono',consolas,'Courier New',monospace\"><span style=\"font-weight: bold\"> Trainable params: </span><span style=\"color: #00af00; text-decoration-color: #00af00\">0</span> (0.00 B)\n",
              "</pre>\n"
            ]
          },
          "metadata": {}
        },
        {
          "output_type": "display_data",
          "data": {
            "text/plain": [
              "\u001b[1m Non-trainable params: \u001b[0m\u001b[38;5;34m0\u001b[0m (0.00 B)\n"
            ],
            "text/html": [
              "<pre style=\"white-space:pre;overflow-x:auto;line-height:normal;font-family:Menlo,'DejaVu Sans Mono',consolas,'Courier New',monospace\"><span style=\"font-weight: bold\"> Non-trainable params: </span><span style=\"color: #00af00; text-decoration-color: #00af00\">0</span> (0.00 B)\n",
              "</pre>\n"
            ]
          },
          "metadata": {}
        }
      ],
      "source": [
        "model.compile(loss='binary_crossentropy', optimizer=Adam(learning_rate=0.001), metrics=['accuracy'])\n",
        "model.summary()\n"
      ]
    },
    {
      "cell_type": "code",
      "execution_count": null,
      "metadata": {
        "id": "KnuCk56oEzGg",
        "colab": {
          "base_uri": "https://localhost:8080/"
        },
        "outputId": "2945cc55-fa21-4fbb-e04e-ee02b5116624"
      },
      "outputs": [
        {
          "output_type": "stream",
          "name": "stdout",
          "text": [
            "Epoch 1/5\n",
            "\u001b[1m820/820\u001b[0m \u001b[32m━━━━━━━━━━━━━━━━━━━━\u001b[0m\u001b[37m\u001b[0m \u001b[1m17s\u001b[0m 12ms/step - accuracy: 0.7041 - loss: 0.5533 - val_accuracy: 0.6059 - val_loss: 0.5950\n",
            "Epoch 2/5\n",
            "\u001b[1m820/820\u001b[0m \u001b[32m━━━━━━━━━━━━━━━━━━━━\u001b[0m\u001b[37m\u001b[0m \u001b[1m9s\u001b[0m 10ms/step - accuracy: 0.6612 - loss: 0.5576 - val_accuracy: 0.6959 - val_loss: 0.5380\n",
            "Epoch 3/5\n",
            "\u001b[1m820/820\u001b[0m \u001b[32m━━━━━━━━━━━━━━━━━━━━\u001b[0m\u001b[37m\u001b[0m \u001b[1m9s\u001b[0m 11ms/step - accuracy: 0.7319 - loss: 0.5003 - val_accuracy: 0.7664 - val_loss: 0.4522\n",
            "Epoch 4/5\n",
            "\u001b[1m820/820\u001b[0m \u001b[32m━━━━━━━━━━━━━━━━━━━━\u001b[0m\u001b[37m\u001b[0m \u001b[1m12s\u001b[0m 13ms/step - accuracy: 0.7584 - loss: 0.4727 - val_accuracy: 0.9114 - val_loss: 0.2987\n",
            "Epoch 5/5\n",
            "\u001b[1m820/820\u001b[0m \u001b[32m━━━━━━━━━━━━━━━━━━━━\u001b[0m\u001b[37m\u001b[0m \u001b[1m19s\u001b[0m 11ms/step - accuracy: 0.9118 - loss: 0.2741 - val_accuracy: 0.9397 - val_loss: 0.1979\n"
          ]
        }
      ],
      "source": [
        "history = model.fit(\n",
        "   X_train_lstm, y_train_lstm,\n",
        "    validation_data=( X_val_lstm, y_val_lstm ),\n",
        "    epochs=5,\n",
        "    batch_size=64\n",
        ")\n",
        "\n"
      ]
    },
    {
      "cell_type": "code",
      "execution_count": null,
      "metadata": {
        "id": "Tan9BMGcE7yx",
        "colab": {
          "base_uri": "https://localhost:8080/"
        },
        "outputId": "6ae05ce0-1c36-4158-d5a7-5ede107d33f5"
      },
      "outputs": [
        {
          "output_type": "stream",
          "name": "stdout",
          "text": [
            "\u001b[1m205/205\u001b[0m \u001b[32m━━━━━━━━━━━━━━━━━━━━\u001b[0m\u001b[37m\u001b[0m \u001b[1m1s\u001b[0m 6ms/step - accuracy: 0.9330 - loss: 0.2091\n",
            " Test Accuracy: 0.9341\n"
          ]
        }
      ],
      "source": [
        "loss, accuracy = model.evaluate(X_test_lstm, y_test_lstm)\n",
        "print(f\" Test Accuracy: {accuracy:.4f}\")\n"
      ]
    },
    {
      "cell_type": "code",
      "execution_count": null,
      "metadata": {
        "id": "BD7LQKPBQNaT"
      },
      "outputs": [],
      "source": [
        "from sklearn.metrics import (\n",
        "    accuracy_score, precision_score, recall_score, f1_score,\n",
        "    confusion_matrix, roc_curve, auc\n",
        ")\n",
        "import matplotlib.pyplot as plt\n",
        "\n",
        "\n",
        "def evaluate_dl_model(name, model, X_train, y_train, X_test, y_test, history):\n",
        "    # Predict probabilities and labels\n",
        "    probs = model.predict(X_test).flatten()\n",
        "    preds = (probs > 0.5).astype(int)\n",
        "\n",
        "    # Metrics\n",
        "    loss, test_acc = model.evaluate(X_test, y_test, verbose=0)\n",
        "    train_acc = history.history['accuracy'][-1]  # Last epoch training accuracy\n",
        "    val_acc = history.history['val_accuracy'][-1]  # Last epoch val accuracy (optional)\n",
        "    acc = accuracy_score(y_test, preds)\n",
        "    prec = precision_score(y_test, preds)\n",
        "    rec = recall_score(y_test, preds)\n",
        "    f1 = f1_score(y_test, preds)\n",
        "    fpr, tpr, _ = roc_curve(y_test, probs)\n",
        "    roc_auc = auc(fpr, tpr)\n",
        "\n",
        "    # Print evaluation\n",
        "    print(f\"\\n🔍 {name} Model Evaluation:\")\n",
        "    print(f\"Training Accuracy (Last Epoch): {train_acc:.4f}\")\n",
        "    print(f\"Testing Accuracy (Keras Eval): {test_acc:.4f}\")\n",
        "    print(f\"Accuracy (Sklearn): {acc:.4f}\")\n",
        "    print(f\"Precision: {prec:.4f}\")\n",
        "    print(f\"Recall: {rec:.4f}\")\n",
        "    print(f\"F1 Score: {f1:.4f}\")\n",
        "    print(f\"AUC Score: {roc_auc:.4f}\")\n",
        "\n",
        "    # Confusion Matrix\n",
        "    cm = confusion_matrix(y_test, preds)\n",
        "    plt.figure(figsize=(5, 4))\n",
        "    sns.heatmap(cm, annot=True, fmt=\"d\", cmap=\"Blues\", xticklabels=['Fake', 'Real'], yticklabels=['Fake', 'Real'])\n",
        "    plt.title(f'🧩 Confusion Matrix - {name}')\n",
        "    plt.xlabel('Predicted')\n",
        "    plt.ylabel('Actual')\n",
        "    plt.show()\n",
        "\n",
        "    # ROC Curve\n",
        "    plt.figure()\n",
        "    plt.plot(fpr, tpr, label=f'{name} (AUC = {roc_auc:.2f})')\n",
        "    plt.plot([0, 1], [0, 1], linestyle='--', color='gray')\n",
        "    plt.xlabel('False Positive Rate')\n",
        "    plt.ylabel('True Positive Rate')\n",
        "    plt.title(f'ROC Curve - {name}')\n",
        "    plt.legend(loc='lower right')\n",
        "    plt.grid()\n",
        "    plt.show()\n"
      ]
    },
    {
      "cell_type": "code",
      "execution_count": null,
      "metadata": {
        "id": "R7ISXmv0T_Re",
        "colab": {
          "base_uri": "https://localhost:8080/",
          "height": 1000
        },
        "outputId": "2f32a496-919b-4c47-a72b-988403c6d783"
      },
      "outputs": [
        {
          "output_type": "stream",
          "name": "stdout",
          "text": [
            "\u001b[1m205/205\u001b[0m \u001b[32m━━━━━━━━━━━━━━━━━━━━\u001b[0m\u001b[37m\u001b[0m \u001b[1m1s\u001b[0m 5ms/step\n",
            "\n",
            "🔍 LSTM Model Evaluation:\n",
            "Training Accuracy (Last Epoch): 0.9204\n",
            "Testing Accuracy (Keras Eval): 0.9341\n",
            "Accuracy (Sklearn): 0.9341\n",
            "Precision: 0.9272\n",
            "Recall: 0.9429\n",
            "F1 Score: 0.9350\n",
            "AUC Score: 0.9683\n"
          ]
        },
        {
          "output_type": "stream",
          "name": "stderr",
          "text": [
            "/usr/local/lib/python3.11/dist-packages/IPython/core/pylabtools.py:151: UserWarning: Glyph 129513 (\\N{JIGSAW PUZZLE PIECE}) missing from font(s) DejaVu Sans.\n",
            "  fig.canvas.print_figure(bytes_io, **kw)\n"
          ]
        },
        {
          "output_type": "display_data",
          "data": {
            "text/plain": [
              "<Figure size 500x400 with 2 Axes>"
            ],
            "image/png": "[encoded data removed]"
          },
          "metadata": {}
        },
        {
          "output_type": "display_data",
          "data": {
            "text/plain": [
              "<Figure size 640x480 with 1 Axes>"
            ],
            "image/png": "[encoded data removed]"
          },
          "metadata": {}
        }
      ],
      "source": [
        "evaluate_dl_model(\"LSTM\", model, X_train_lstm, y_train_lstm, X_test_lstm, y_test_lstm , history)\n"
      ]
    }
  ],
  "metadata": {
    "accelerator": "GPU",
    "colab": {
      "gpuType": "T4",
      "provenance": [],
      "include_colab_link": true
    },
    "kernelspec": {
      "display_name": "Python 3",
      "name": "python3"
    },
    "language_info": {
      "name": "python"
    }
  },
  "nbformat": 4,
  "nbformat_minor": 0
}